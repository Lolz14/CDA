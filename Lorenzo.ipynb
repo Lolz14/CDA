{
 "cells": [
  {
   "cell_type": "markdown",
   "metadata": {},
   "source": []
  },
  {
   "cell_type": "code",
   "execution_count": 2,
   "metadata": {},
   "outputs": [
    {
     "name": "stdout",
     "output_type": "stream",
     "text": [
      "Using dask. Scheduler: threads\n",
      "Please cite:\n",
      "Bizzego et al. (2019) 'pyphysio: A physiological signal processing library for data science approaches in physiology', SoftwareX\n"
     ]
    }
   ],
   "source": [
    "import pandas as pd\n",
    "import numpy as np\n",
    "import pyphysio as ph\n",
    "import scipy \n",
    "from featext import featext\n",
    "import pycatch22"
   ]
  },
  {
   "cell_type": "code",
   "execution_count": 3,
   "metadata": {},
   "outputs": [],
   "source": [
    "%load_ext autoreload\n",
    "%autoreload 2"
   ]
  },
  {
   "cell_type": "code",
   "execution_count": 4,
   "metadata": {},
   "outputs": [],
   "source": [
    "import pyphysio.filters as flt\n"
   ]
  },
  {
   "cell_type": "code",
   "execution_count": 5,
   "metadata": {},
   "outputs": [],
   "source": [
    "df = pd.read_csv(r\"C:\\Users\\loren\\OneDrive - Politecnico di Milano\\Quantitative Finance\\COMPUTATIONAL DATA SCIENCE\\dataset.csv\")\n"
   ]
  },
  {
   "cell_type": "code",
   "execution_count": null,
   "metadata": {},
   "outputs": [],
   "source": [
    "rounds = ['round_1', 'round_2', 'round_3', 'round_4']\n",
    "phases = ['phase1','phase2','phase3']\n",
    "df.columns"
   ]
  },
  {
   "cell_type": "code",
   "execution_count": 6,
   "metadata": {},
   "outputs": [],
   "source": [
    "\n",
    "\n",
    "BVP1 = df.loc[(df['data_type'] == \"BVP\") & (df['ID'] == \"ID_1\") & (df['Round'] == \"round_1\") & (df['Phase'] == \"phase1\")& (df['Type'] == \"D1_1\"),:]\n",
    "\n"
   ]
  },
  {
   "cell_type": "code",
   "execution_count": 8,
   "metadata": {},
   "outputs": [],
   "source": [
    "fs = 1/ pd.to_datetime(BVP1.time).diff()[1].total_seconds()\n",
    "SIGN  =ph.create_signal(BVP1['BVP'], sampling_freq=fs, name='BVP')\n"
   ]
  },
  {
   "cell_type": "code",
   "execution_count": 10,
   "metadata": {},
   "outputs": [],
   "source": [
    "import pyphysio.indicators.timedomain as td_ind\n",
    "import pyphysio.indicators.frequencydomain as fd_ind\n",
    "import pyphysio.indicators.peaks as peaks\n",
    "import pyphysio.indicators.nonlinear as nl"
   ]
  },
  {
   "cell_type": "code",
   "execution_count": null,
   "metadata": {},
   "outputs": [],
   "source": [
    "bvp = flt.IIRFilter(fp=0.5, fs = 0.05, ftype='ellip')(SIGN)"
   ]
  },
  {
   "cell_type": "code",
   "execution_count": null,
   "metadata": {},
   "outputs": [],
   "source": [
    "\n",
    "peaks.DurationMax(delta=0.001)(SIGN)\n",
    "peaks.DurationMean\n",
    "peaks.DurationMin\n"
   ]
  },
  {
   "cell_type": "code",
   "execution_count": null,
   "metadata": {},
   "outputs": [],
   "source": [
    "\n",
    "\n",
    "peaks.PeaksMax(delta=1)(SIGN)\n"
   ]
  },
  {
   "cell_type": "code",
   "execution_count": null,
   "metadata": {},
   "outputs": [],
   "source": [
    "\n",
    "peaks.PeaksMean\n",
    "peaks.PeaksMin\n",
    "peaks.PeaksNum\n",
    "peaks.SlopeMax\n",
    "peaks.SlopeMean\n",
    "peaks.SlopeMin\n"
   ]
  },
  {
   "cell_type": "code",
   "execution_count": null,
   "metadata": {},
   "outputs": [],
   "source": [
    "SIGN.to_dataframe().reset_index(drop=False).drop(columns=['channel','component'])"
   ]
  },
  {
   "cell_type": "code",
   "execution_count": null,
   "metadata": {},
   "outputs": [],
   "source": [
    "nl.ApproxEntropy()(SIGN)\n",
    "nl.DFALongTerm()(SIGN.to_dataframe().reset_index(drop=False).drop(columns=['channel','component']))\n",
    "nl.DFAShortTerm\n",
    "nl.NNx\n",
    "nl.PNNx\n",
    "nl.PoincareSD1\n",
    "nl.PoincareSD1SD2\n",
    "nl.PoincareSD2\n",
    "nl.PoincareSD2\n",
    "nl.PoinEll\n",
    "nl.SampleEntropy\n"
   ]
  },
  {
   "cell_type": "code",
   "execution_count": null,
   "metadata": {},
   "outputs": [],
   "source": [
    "res = featext(BVP1, 'BVP')"
   ]
  },
  {
   "cell_type": "code",
   "execution_count": null,
   "metadata": {},
   "outputs": [],
   "source": [
    "pd.DataFrame.from_dict(res, orient='index').T\n"
   ]
  },
  {
   "cell_type": "code",
   "execution_count": 14,
   "metadata": {},
   "outputs": [
    {
     "data": {
      "text/plain": [
       "{'names': ['DN_HistogramMode_5',\n",
       "  'DN_HistogramMode_10',\n",
       "  'CO_f1ecac',\n",
       "  'CO_FirstMin_ac',\n",
       "  'CO_HistogramAMI_even_2_5',\n",
       "  'CO_trev_1_num',\n",
       "  'MD_hrv_classic_pnn40',\n",
       "  'SB_BinaryStats_mean_longstretch1',\n",
       "  'SB_TransitionMatrix_3ac_sumdiagcov',\n",
       "  'PD_PeriodicityWang_th0_01',\n",
       "  'CO_Embed2_Dist_tau_d_expfit_meandiff',\n",
       "  'IN_AutoMutualInfoStats_40_gaussian_fmmi',\n",
       "  'FC_LocalSimple_mean1_tauresrat',\n",
       "  'DN_OutlierInclude_p_001_mdrmd',\n",
       "  'DN_OutlierInclude_n_001_mdrmd',\n",
       "  'SP_Summaries_welch_rect_area_5_1',\n",
       "  'SB_BinaryStats_diff_longstretch0',\n",
       "  'SB_MotifThree_quantile_hh',\n",
       "  'SC_FluctAnal_2_rsrangefit_50_1_logi_prop_r1',\n",
       "  'SC_FluctAnal_2_dfa_50_1_2_logi_prop_r1',\n",
       "  'SP_Summaries_welch_rect_centroid',\n",
       "  'FC_LocalSimple_mean3_stderr'],\n",
       " 'values': [-0.40359659489959654,\n",
       "  1.5629443234185718,\n",
       "  9.077046040992364,\n",
       "  26,\n",
       "  0.05230625337747943,\n",
       "  -0.017824400372410534,\n",
       "  0.452223736156238,\n",
       "  67.0,\n",
       "  0.008735493634496397,\n",
       "  48,\n",
       "  0.17684668458170785,\n",
       "  13.0,\n",
       "  0.5,\n",
       "  -0.6102920626048072,\n",
       "  -0.8125698714365568,\n",
       "  0.9988380840699647,\n",
       "  56.0,\n",
       "  1.411848392150569,\n",
       "  0.3,\n",
       "  0.32,\n",
       "  0.11945875385660218,\n",
       "  0.3078747241224788]}"
      ]
     },
     "execution_count": 14,
     "metadata": {},
     "output_type": "execute_result"
    }
   ],
   "source": [
    "YEP = pycatch22.catch22_all(BVP1['BVP'])\n",
    "YEP"
   ]
  }
 ],
 "metadata": {
  "kernelspec": {
   "display_name": "Python 3",
   "language": "python",
   "name": "python3"
  },
  "language_info": {
   "codemirror_mode": {
    "name": "ipython",
    "version": 3
   },
   "file_extension": ".py",
   "mimetype": "text/x-python",
   "name": "python",
   "nbconvert_exporter": "python",
   "pygments_lexer": "ipython3",
   "version": "3.10.11"
  },
  "orig_nbformat": 4
 },
 "nbformat": 4,
 "nbformat_minor": 2
}
