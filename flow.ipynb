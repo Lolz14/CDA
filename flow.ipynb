{
 "cells": [
  {
   "cell_type": "code",
   "execution_count": 1,
   "metadata": {},
   "outputs": [
    {
     "name": "stderr",
     "output_type": "stream",
     "text": [
      "C:\\Users\\Diego\\AppData\\Local\\Temp\\ipykernel_21364\\1289011824.py:40: VisibleDeprecationWarning: Creating an ndarray from ragged nested sequences (which is a list-or-tuple of lists-or-tuples-or ndarrays with different lengths or shapes) is deprecated. If you meant to do this, you must specify 'dtype=object' when creating the ndarray.\n",
      "  time_series_data = np.array(time_series_data)\n"
     ]
    }
   ],
   "source": [
    "import os\n",
    "import numpy as np\n",
    "import pandas as pd\n",
    "from featextra import featextra\n",
    "# Define the path to the dataset directory\n",
    "dataset_path = r'C:\\Users\\Diego\\Documents\\DTU\\Spring2023\\CDA\\CDA_Projects\\Case2\\dataset\\dataset'\n",
    "\n",
    "# Define the names of the folders containing the response.csv file\n",
    "response_folder_names = ['D1_1', 'D1_2', 'D1_3']\n",
    "\n",
    "# Initialize the arrays to store the data\n",
    "time_series_data = []\n",
    "time =[]\n",
    "labels = []\n",
    "keywords = []\n",
    "\n",
    "# Traverse the directory tree and extract the necessary information\n",
    "for group_folder_name in os.listdir(dataset_path):\n",
    "    if group_folder_name in response_folder_names:\n",
    "        for subject_folder_name in os.listdir(os.path.join(dataset_path, group_folder_name)):\n",
    "            if subject_folder_name.endswith('.csv'):\n",
    "                continue\n",
    "            for round_folder_name in os.listdir(os.path.join(dataset_path, group_folder_name, subject_folder_name)):\n",
    "                for phase_folder_name in os.listdir(os.path.join(dataset_path, group_folder_name, subject_folder_name, round_folder_name)):\n",
    "                    response_file_path = os.path.join(dataset_path, group_folder_name, subject_folder_name, round_folder_name, phase_folder_name, 'response.csv')\n",
    "                    response_data = np.loadtxt(response_file_path, delimiter=',', skiprows=1, usecols=[1])\n",
    "                    for signal_file_name in os.listdir(os.path.join(dataset_path, group_folder_name, subject_folder_name, round_folder_name, phase_folder_name)):\n",
    "                        if (signal_file_name.endswith('.csv')) & (signal_file_name != 'response.csv'):\n",
    "                            signal_file_path = os.path.join(dataset_path, group_folder_name, subject_folder_name, round_folder_name, phase_folder_name, signal_file_name)\n",
    "                            signal_type = signal_file_name[:-4]  # remove the .csv extension\n",
    "                            signal_data = pd.read_csv(signal_file_path, index_col=False)\n",
    "                            # # if (len(time_series_data) != 0):\n",
    "                            # #     signal_data = np.pad(signal_data, (0, time_series_data[-1].shape[0] - signal_data.shape[0]), 'constant')  # pad with zeros\n",
    "                            time_series_data.append(signal_data[signal_type])\n",
    "                            time.append(signal_data[\"time\"])\n",
    "                            keywords.append(f'{group_folder_name},{signal_type},{phase_folder_name},{subject_folder_name},{round_folder_name}')\n",
    "                            labels.append(f'{group_folder_name}_{signal_type}_{phase_folder_name}_{subject_folder_name}_{round_folder_name}.dat')\n",
    "\n",
    "# Convert the arrays to the desired format\n",
    "time_series_data = np.array(time_series_data)\n",
    "keywords = np.array(keywords).flatten()\n",
    "labels = np.array(labels).flatten()\n",
    "results = np.empty(shape=(time_series_data.shape[0], 777))\n",
    "i = 0\n",
    "for row, time, name in zip(time_series_data, time, labels):\n",
    "    i += 1\n",
    "    df = pd.DataFrame(row)\n",
    "    df[\"time\"] = time\n",
    "    df[\"ID\"] = name\n",
    "    results[i,:] = featextra(df, row.name, n_jobs=1)"
   ]
  }
 ],
 "metadata": {
  "kernelspec": {
   "display_name": "ML",
   "language": "python",
   "name": "python3"
  },
  "language_info": {
   "codemirror_mode": {
    "name": "ipython",
    "version": 3
   },
   "file_extension": ".py",
   "mimetype": "text/x-python",
   "name": "python",
   "nbconvert_exporter": "python",
   "pygments_lexer": "ipython3",
   "version": "3.8.13"
  },
  "orig_nbformat": 4,
  "vscode": {
   "interpreter": {
    "hash": "a2f6c66c89ad4c8419177551668bc68e5b63841305411eba2146a4407b0a55c3"
   }
  }
 },
 "nbformat": 4,
 "nbformat_minor": 2
}
